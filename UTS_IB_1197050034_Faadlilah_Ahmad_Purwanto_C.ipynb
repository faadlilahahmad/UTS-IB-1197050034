{
  "nbformat": 4,
  "nbformat_minor": 0,
  "metadata": {
    "colab": {
      "name": "UTS IB-1197050034-Faadlilah Ahmad Purwanto-C.ipynb",
      "provenance": [],
      "collapsed_sections": [],
      "authorship_tag": "ABX9TyP1BnD2kcxX4HwWOn+A9zNr",
      "include_colab_link": true
    },
    "kernelspec": {
      "name": "python3",
      "display_name": "Python 3"
    },
    "language_info": {
      "name": "python"
    }
  },
  "cells": [
    {
      "cell_type": "markdown",
      "metadata": {
        "id": "view-in-github",
        "colab_type": "text"
      },
      "source": [
        "<a href=\"https://colab.research.google.com/github/faadlilahahmad/UTS-IB-1197050034/blob/main/UTS_IB_1197050034_Faadlilah_Ahmad_Purwanto_C.ipynb\" target=\"_parent\"><img src=\"https://colab.research.google.com/assets/colab-badge.svg\" alt=\"Open In Colab\"/></a>"
      ]
    },
    {
      "cell_type": "markdown",
      "metadata": {
        "id": "VvipgAbDe2vM"
      },
      "source": [
        "SOAL"
      ]
    },
    {
      "cell_type": "code",
      "metadata": {
        "id": "LqIpeJPydOL3"
      },
      "source": [
        "#permintaan\n",
        "permintaan_terbesar = 5000\n",
        "permintaan_terkecil = 1000\n",
        "#stok\n",
        "stok_terbanyak = 600\n",
        "stok_terkecil = 100\n",
        "#produksi\n",
        "produksi_max = 7000\n",
        "produksi_min = 2000\n",
        "#SOAL, jika x(permintaan) = 4000 dan y(stok) = 300, maka z(produksi) = ?\n",
        "x = 4000\n",
        "y = 300\n",
        "z = 0"
      ],
      "execution_count": null,
      "outputs": []
    },
    {
      "cell_type": "code",
      "metadata": {
        "colab": {
          "base_uri": "https://localhost:8080/"
        },
        "id": "Upp2hxVZhCDl",
        "outputId": "99ea30f7-9fb9-4b26-fd97-ddc22fbb85b1"
      },
      "source": [
        "#PERMINTAAN, terdiri dari 2 himpunan fuzzy: TURUN dan NAIK | PERMINTAAN=4000\n",
        "a=0\n",
        "\n",
        "def permintaan_turun(a):\n",
        "    if(x>permintaan_terbesar):\n",
        "        nilai = 1\n",
        "    elif(x<permintaan_terbesar and x>permintaan_terkecil):\n",
        "        nilai = (permintaan_terbesar-x)/x\n",
        "    elif(x<permintaan_terkecil):\n",
        "        nilai = 0\n",
        "\n",
        "    return nilai\n",
        "\n",
        "print(\"permintaan_turun : \",permintaan_turun(a))"
      ],
      "execution_count": null,
      "outputs": [
        {
          "output_type": "stream",
          "name": "stdout",
          "text": [
            "permintaan_turun :  0.25\n"
          ]
        }
      ]
    },
    {
      "cell_type": "code",
      "metadata": {
        "colab": {
          "base_uri": "https://localhost:8080/"
        },
        "id": "oSNxe6_3vFBA",
        "outputId": "48331d41-1568-4a50-80e3-8f63bc7ba549"
      },
      "source": [
        "b=0\n",
        "\n",
        "def permintaan_naik(b):\n",
        "    if(x>permintaan_terbesar):\n",
        "        nilai = 0\n",
        "    elif(x<permintaan_terbesar and x>permintaan_terkecil):\n",
        "        nilai = (x-permintaan_terkecil)/x\n",
        "    elif(x<permintaan_terkecil):\n",
        "        nilai = 1\n",
        "\n",
        "    return nilai\n",
        "\n",
        "print(\"permintaan_naik : \",permintaan_naik(b))"
      ],
      "execution_count": null,
      "outputs": [
        {
          "output_type": "stream",
          "name": "stdout",
          "text": [
            "permintaan_naik :  0.75\n"
          ]
        }
      ]
    },
    {
      "cell_type": "code",
      "metadata": {
        "colab": {
          "base_uri": "https://localhost:8080/"
        },
        "id": "Qt4xR-P-wN-5",
        "outputId": "b4b322a0-4b74-4ebf-ecfe-c98878851cd0"
      },
      "source": [
        "#PERSEDIAAN, terdiri dari 2 himpunan fuzzy: SEDIKIT dan BANYAK\n",
        "c=0\n",
        "\n",
        "def persediaan_sedikit(c):\n",
        "    if(y<stok_terkecil):\n",
        "        nilai = 1\n",
        "    elif(y<stok_terbanyak and y>stok_terkecil):\n",
        "        nilai = (stok_terbanyak-y)/500\n",
        "    elif(y>stok_terbanyak):\n",
        "        nilai = 0\n",
        "    \n",
        "    return nilai\n",
        "\n",
        "print(\"persediaan_sedikit : \",persediaan_sedikit(c))"
      ],
      "execution_count": null,
      "outputs": [
        {
          "output_type": "stream",
          "name": "stdout",
          "text": [
            "persediaan_sedikit :  0.6\n"
          ]
        }
      ]
    },
    {
      "cell_type": "code",
      "metadata": {
        "colab": {
          "base_uri": "https://localhost:8080/"
        },
        "id": "6mcI9WPw0IoS",
        "outputId": "d8d617b8-07a8-446e-f26d-f3deea9d6969"
      },
      "source": [
        "d=0\n",
        "\n",
        "def persediaan_banyak(d):\n",
        "    if(y<stok_terkecil):\n",
        "        nilai = 0\n",
        "    elif(y<stok_terbanyak and y>stok_terkecil):\n",
        "        nilai = (y-stok_terkecil)/500\n",
        "    elif(y>stok_terbanyak):\n",
        "        nilai = 1\n",
        "    \n",
        "    return nilai\n",
        "\n",
        "print(\"persediaan_banyak : \",persediaan_banyak(d))"
      ],
      "execution_count": null,
      "outputs": [
        {
          "output_type": "stream",
          "name": "stdout",
          "text": [
            "persediaan_banyak :  0.4\n"
          ]
        }
      ]
    },
    {
      "cell_type": "markdown",
      "metadata": {
        "id": "ojj32Osakv_D"
      },
      "source": [
        "RULE\n",
        "\n",
        "1. IF permintaan TURUN and persediaan BANYAK THEN produksi barang BERKURANG\n",
        "2. IF permintaan TURUN and persediaan SEDIKIT THEN produksi barang BERKURANG\n",
        "3. IF permintaan NAIK and persediaan BANYAK THEN produksi barang BERTAMBAH\n",
        "4. IF permintaan NAIK and persediaan SEDIKIT THEN produksi barang BERTAMBAH\n",
        "\n",
        "\n",
        "\n"
      ]
    },
    {
      "cell_type": "code",
      "metadata": {
        "colab": {
          "base_uri": "https://localhost:8080/"
        },
        "id": "zHzLFfpf5bvl",
        "outputId": "fbc0da04-82d2-49ed-a1b9-5b8352867d6a"
      },
      "source": [
        "#PRODUKSI, terdiri dari 2 himpunan fuzzy: BERKURANG dan BERTAMBAH\n",
        "g1 = [permintaan_turun(a), persediaan_banyak(d)]\n",
        "apredikat1 = min(g1)\n",
        "print (\"RULE 1\")\n",
        "print (\"apredikat1 = \",apredikat1)\n",
        "print (\"dari himpunan produksi barang BERKURANG\")\n",
        "z1 = produksi_max-(permintaan_terbesar*apredikat1)\n",
        "print (\"z1 = \",z1)"
      ],
      "execution_count": null,
      "outputs": [
        {
          "output_type": "stream",
          "name": "stdout",
          "text": [
            "RULE 1\n",
            "apredikat1 =  0.25\n",
            "dari himpunan produksi barang BERKURANG\n",
            "z1 =  5750.0\n"
          ]
        }
      ]
    },
    {
      "cell_type": "code",
      "metadata": {
        "colab": {
          "base_uri": "https://localhost:8080/"
        },
        "id": "l7mZV60UCBdm",
        "outputId": "f4ce7f83-d1f1-401f-f551-aa58c6b820d7"
      },
      "source": [
        "g2 = [permintaan_turun(a), persediaan_sedikit(c)]\n",
        "apredikat2 = min(g2)\n",
        "print (\"RULE 2\")\n",
        "print (\"apredikat2 = \",apredikat2)\n",
        "print (\"dari himpunan produksi barang BERKURANG\")\n",
        "z2 = produksi_max-(permintaan_terbesar*apredikat2)\n",
        "print (\"z2 = \",z2)"
      ],
      "execution_count": null,
      "outputs": [
        {
          "output_type": "stream",
          "name": "stdout",
          "text": [
            "RULE 2\n",
            "apredikat2 =  0.25\n",
            "dari himpunan produksi barang BERKURANG\n",
            "z2 =  5750.0\n"
          ]
        }
      ]
    },
    {
      "cell_type": "code",
      "metadata": {
        "colab": {
          "base_uri": "https://localhost:8080/"
        },
        "id": "VIzI6Px8CgHa",
        "outputId": "38f8b4af-2284-4d8e-e673-aea0888932d3"
      },
      "source": [
        "g3 = [permintaan_naik(b), persediaan_banyak(d)]\n",
        "apredikat3 = min(g3)\n",
        "print (\"RULE 3\")\n",
        "print (\"apredikat3 = \",apredikat3)\n",
        "print (\"dari himpunan produksi barang BERTAMBAH\")\n",
        "z3 = produksi_min+(permintaan_terbesar*apredikat3)\n",
        "print (\"z3 = \",z3)"
      ],
      "execution_count": null,
      "outputs": [
        {
          "output_type": "stream",
          "name": "stdout",
          "text": [
            "RULE 3\n",
            "apredikat3 =  0.4\n",
            "dari himpunan produksi barang BERTAMBAH\n",
            "z3 =  4000.0\n"
          ]
        }
      ]
    },
    {
      "cell_type": "code",
      "metadata": {
        "colab": {
          "base_uri": "https://localhost:8080/"
        },
        "id": "-ENFNneDC8ys",
        "outputId": "3b28fefb-e682-4403-fb29-942415f5a217"
      },
      "source": [
        "g4 = [permintaan_naik(b), persediaan_sedikit(c)]\n",
        "apredikat4 = min(g4)\n",
        "print (\"RULE 4\")\n",
        "print (\"apredikat4 = \",apredikat4)\n",
        "print (\"dari himpunan produksi barang BERTAMBAH\")\n",
        "z4 = produksi_min+(permintaan_terbesar*apredikat4)\n",
        "print (\"z4 = \",z4)"
      ],
      "execution_count": 22,
      "outputs": [
        {
          "output_type": "stream",
          "name": "stdout",
          "text": [
            "RULE 4\n",
            "apredikat4 =  0.6\n",
            "dari himpunan produksi barang BERTAMBAH\n",
            "z4 =  5000.0\n"
          ]
        }
      ]
    },
    {
      "cell_type": "code",
      "metadata": {
        "colab": {
          "base_uri": "https://localhost:8080/"
        },
        "id": "ho2dOLDpJ5Kw",
        "outputId": "3a8903a5-991d-470d-c2e4-cb1371c70f62"
      },
      "source": [
        "print(\"Menghitung z akhir dengan merata-rata semua z berbobot: \")\n",
        "hasil_akhir = ((apredikat1*z1)+(apredikat2*z2)+(apredikat3*z3)+(apredikat4*z4))/(apredikat1+apredikat2+apredikat3+apredikat4)\n",
        "print(hasil_akhir)\n"
      ],
      "execution_count": null,
      "outputs": [
        {
          "output_type": "stream",
          "name": "stdout",
          "text": [
            "Menghitung z akhir dengan merata-rata semua z berbobot: \n",
            "4983.333333333333\n"
          ]
        }
      ]
    }
  ]
}