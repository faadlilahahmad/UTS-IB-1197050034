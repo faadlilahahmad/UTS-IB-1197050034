{
  "nbformat": 4,
  "nbformat_minor": 0,
  "metadata": {
    "colab": {
      "name": "UTS IB-1197050034-Faadlilah Ahmad Purwanto-C.ipynb",
      "provenance": [],
      "collapsed_sections": [],
      "authorship_tag": "ABX9TyO8zIK/uZXLK+xQ4fJm470X",
      "include_colab_link": true
    },
    "kernelspec": {
      "name": "python3",
      "display_name": "Python 3"
    },
    "language_info": {
      "name": "python"
    }
  },
  "cells": [
    {
      "cell_type": "markdown",
      "metadata": {
        "id": "view-in-github",
        "colab_type": "text"
      },
      "source": [
        "<a href=\"https://colab.research.google.com/github/faadlilahahmad/UTS-IB-1197050034/blob/main/UTS_IB_1197050034_Faadlilah_Ahmad_Purwanto_C.ipynb\" target=\"_parent\"><img src=\"https://colab.research.google.com/assets/colab-badge.svg\" alt=\"Open In Colab\"/></a>"
      ]
    },
    {
      "cell_type": "markdown",
      "metadata": {
        "id": "VvipgAbDe2vM"
      },
      "source": [
        "SOAL"
      ]
    },
    {
      "cell_type": "code",
      "metadata": {
        "id": "LqIpeJPydOL3"
      },
      "source": [
        "#permintaan\n",
        "permintaan_terbesar = 5000\n",
        "permintaan_terkecil = 1000\n",
        "#stok\n",
        "stok_terbanyak = 600\n",
        "stok_terkecil = 100\n",
        "#produksi\n",
        "produksi_max = 7000\n",
        "produksi_min = 2000\n",
        "#SOAL, jika x(permintaan) = 4000 dan y(stok) = 300, maka z(produksi) = ?\n",
        "x = 4000\n",
        "y = 300\n",
        "z = 0"
      ],
      "execution_count": null,
      "outputs": []
    },
    {
      "cell_type": "code",
      "metadata": {
        "colab": {
          "base_uri": "https://localhost:8080/"
        },
        "id": "Upp2hxVZhCDl",
        "outputId": "7a480402-05b5-4573-b49f-61190f27e1b4"
      },
      "source": [
        "#PERMINTAAN, terdiri dari 2 himpunan fuzzy: TURUN dan NAIK | PERMINTAAN=4000\n",
        "a=0\n",
        "\n",
        "def permintaan_turun(a):\n",
        "    if(x>permintaan_terbesar):\n",
        "        nilai = 1\n",
        "    elif(x<permintaan_terbesar and x>permintaan_terkecil):\n",
        "        nilai = (permintaan_terbesar-x)/x\n",
        "    elif(x<permintaan_terkecil):\n",
        "        nilai = 0\n",
        "\n",
        "    return nilai\n",
        "\n",
        "print(\"permintaan_turun : \",permintaan_turun(a))"
      ],
      "execution_count": null,
      "outputs": [
        {
          "output_type": "stream",
          "name": "stdout",
          "text": [
            "permintaan_turun :  0.25\n"
          ]
        }
      ]
    },
    {
      "cell_type": "code",
      "metadata": {
        "colab": {
          "base_uri": "https://localhost:8080/"
        },
        "id": "oSNxe6_3vFBA",
        "outputId": "1c0b857a-23fc-4e40-a5a5-b466d0e8518b"
      },
      "source": [
        "b=0\n",
        "\n",
        "def permintaan_naik(b):\n",
        "    if(x>permintaan_terbesar):\n",
        "        nilai = 0\n",
        "    elif(x<permintaan_terbesar and x>permintaan_terkecil):\n",
        "        nilai = (x-permintaan_terkecil)/x\n",
        "    elif(x<permintaan_terkecil):\n",
        "        nilai = 1\n",
        "\n",
        "    return nilai\n",
        "\n",
        "print(\"permintaan_naik : \",permintaan_naik(b))"
      ],
      "execution_count": null,
      "outputs": [
        {
          "output_type": "stream",
          "name": "stdout",
          "text": [
            "permintaan_naik :  0.75\n"
          ]
        }
      ]
    },
    {
      "cell_type": "code",
      "metadata": {
        "colab": {
          "base_uri": "https://localhost:8080/"
        },
        "id": "Qt4xR-P-wN-5",
        "outputId": "f01340ed-b517-4a7f-d178-b783aab8a75a"
      },
      "source": [
        "#PERSEDIAAN, terdiri dari 2 himpunan fuzzy: SEDIKIT dan BANYAK\n",
        "\n",
        "def persediaan_sedikit(c):\n",
        "    if(y<stok_terkecil):\n",
        "        nilai = 1\n",
        "    elif(y<stok_terbanyak and y>stok_terkecil):\n",
        "        nilai = (stok_terbanyak-y)/500\n",
        "    elif(y>stok_terbanyak):\n",
        "        nilai = 0\n",
        "    \n",
        "    return nilai\n",
        "\n",
        "print(\"persediaan_sedikit : \",persediaan_sedikit(c))"
      ],
      "execution_count": null,
      "outputs": [
        {
          "output_type": "stream",
          "name": "stdout",
          "text": [
            "persediaan_sedikit :  0.6\n"
          ]
        }
      ]
    },
    {
      "cell_type": "code",
      "metadata": {
        "colab": {
          "base_uri": "https://localhost:8080/"
        },
        "id": "6mcI9WPw0IoS",
        "outputId": "2ab843e9-d0c8-485f-bb48-4b438f4cdac2"
      },
      "source": [
        "d=0\n",
        "\n",
        "def persediaan_banyak(d):\n",
        "    if(y<stok_terkecil):\n",
        "        nilai = 0\n",
        "    elif(y<stok_terbanyak and y>stok_terkecil):\n",
        "        nilai = (y-stok_terkecil)/500\n",
        "    elif(y>stok_terbanyak):\n",
        "        nilai = 1\n",
        "    \n",
        "    return nilai\n",
        "\n",
        "print(\"persediaan_banyak : \",persediaan_banyak(d))"
      ],
      "execution_count": null,
      "outputs": [
        {
          "output_type": "stream",
          "name": "stdout",
          "text": [
            "persediaan_banyak :  0.4\n"
          ]
        }
      ]
    },
    {
      "cell_type": "markdown",
      "metadata": {
        "id": "ojj32Osakv_D"
      },
      "source": [
        "RULE\n",
        "\n",
        "1. IF permintaan TURUN and persediaan BANYAK THEN produksi barang BERKURANG\n",
        "2. IF permintaan TURUN and persediaan SEDIKIT THEN produksi barang BERKURANG\n",
        "3. IF permintaan NAIK and persediaan BANYAK THEN produksi barang BERTAMBAH\n",
        "4. IF permintaan NAIK and persediaan SEDIKIT THEN produksi barang BERTAMBAH\n",
        "\n",
        "\n",
        "\n"
      ]
    },
    {
      "cell_type": "code",
      "metadata": {
        "colab": {
          "base_uri": "https://localhost:8080/"
        },
        "id": "zHzLFfpf5bvl",
        "outputId": "3e05e6e8-780b-4183-86d3-f05c22ca6ffe"
      },
      "source": [
        "#PRODUKSI, terdiri dari 2 himpunan fuzzy: BERKURANG dan BERTAMBAH\n",
        "g1 = [permintaan_turun(a), persediaan_banyak(d)]\n",
        "apredikat1 = min(g1)\n",
        "print (\"RULE 1\")\n",
        "print (\"apredikat1 = \",apredikat1)\n",
        "print (\"dari himpunan produksi barang BERKURANG\")\n",
        "z1 = produksi_max-(permintaan_terbesar*apredikat1)\n",
        "print (\"z1 = \",z1)"
      ],
      "execution_count": null,
      "outputs": [
        {
          "output_type": "stream",
          "name": "stdout",
          "text": [
            "RULE 1\n",
            "apredikat1 =  0.25\n",
            "dari himpunan produksi barang BERKURANG\n",
            "z1 =  5750.0\n"
          ]
        }
      ]
    },
    {
      "cell_type": "code",
      "metadata": {
        "colab": {
          "base_uri": "https://localhost:8080/"
        },
        "id": "l7mZV60UCBdm",
        "outputId": "47cdc399-b4d5-4779-d548-f07032b5d8ff"
      },
      "source": [
        "g2 = [permintaan_turun(a), persediaan_sedikit(c)]\n",
        "apredikat2 = min(g2)\n",
        "print (\"RULE 2\")\n",
        "print (\"apredikat2 = \",apredikat2)\n",
        "print (\"dari himpunan produksi barang BERKURANG\")\n",
        "z2 = produksi_max-(permintaan_terbesar*apredikat2)\n",
        "print (\"z2 = \",z2)"
      ],
      "execution_count": null,
      "outputs": [
        {
          "output_type": "stream",
          "name": "stdout",
          "text": [
            "RULE 2\n",
            "apredikat2 =  0.25\n",
            "dari himpunan produksi barang BERKURANG\n",
            "z2 =  5750.0\n"
          ]
        }
      ]
    },
    {
      "cell_type": "code",
      "metadata": {
        "colab": {
          "base_uri": "https://localhost:8080/"
        },
        "id": "VIzI6Px8CgHa",
        "outputId": "8439eba8-6290-448a-a3c5-fc2f83fc8108"
      },
      "source": [
        "g3 = [permintaan_naik(b), persediaan_banyak(d)]\n",
        "apredikat3 = min(g3)\n",
        "print (\"RULE 3\")\n",
        "print (\"apredikat3 = \",apredikat3)\n",
        "print (\"dari himpunan produksi barang BERTAMBAH\")\n",
        "z3 = produksi_min+(permintaan_terbesar*apredikat3)\n",
        "print (\"z3 = \",z3)"
      ],
      "execution_count": null,
      "outputs": [
        {
          "output_type": "stream",
          "name": "stdout",
          "text": [
            "RULE 3\n",
            "apredikat3 =  0.4\n",
            "dari himpunan produksi barang BERTAMBAH\n",
            "z3 =  4000.0\n"
          ]
        }
      ]
    },
    {
      "cell_type": "code",
      "metadata": {
        "colab": {
          "base_uri": "https://localhost:8080/"
        },
        "id": "-ENFNneDC8ys",
        "outputId": "3811d718-2a6c-4301-a891-190c0ac87125"
      },
      "source": [
        "g4 = [permintaan_naik(b), persediaan_sedikit(c)]\n",
        "apredikat4 = min(g4)\n",
        "print (\"RULE 3\")\n",
        "print (\"apredikat4 = \",apredikat4)\n",
        "print (\"dari himpunan produksi barang BERTAMBAH\")\n",
        "z4 = produksi_min+(permintaan_terbesar*apredikat4)\n",
        "print (\"z4 = \",z4)"
      ],
      "execution_count": null,
      "outputs": [
        {
          "output_type": "stream",
          "name": "stdout",
          "text": [
            "RULE 3\n",
            "apredikat4 =  0.6\n",
            "dari himpunan produksi barang BERTAMBAH\n",
            "z4 =  5000.0\n"
          ]
        }
      ]
    },
    {
      "cell_type": "code",
      "metadata": {
        "colab": {
          "base_uri": "https://localhost:8080/"
        },
        "id": "ho2dOLDpJ5Kw",
        "outputId": "1b6bdc1a-8a06-4848-90e6-636e7c08633d"
      },
      "source": [
        "print(\"Menghitung z akhir dengan merata-rata semua z berbobot: \")\n",
        "hasil_akhir = (apredikat1*z1)+(apredikat2*z2)+(apredikat3*z3)+(apredikat4*z4)/(apredikat1+apredikat2+apredikat3+apredikat4)\n",
        "print(hasil_akhir)\n",
        "print(\"Perkalian di ppt salah, hasil perkalian yang benar 7475 sedangkan yang di ppt 7457\")\n"
      ],
      "execution_count": null,
      "outputs": [
        {
          "output_type": "stream",
          "name": "stdout",
          "text": [
            "Menghitung z akhir dengan merata-rata semua z berbobot: \n",
            "6475.0\n",
            "Perkalian di ppt salah, hasil perkalian yang benar 7475 sedangkan yang di ppt 7457\n"
          ]
        }
      ]
    }
  ]
}